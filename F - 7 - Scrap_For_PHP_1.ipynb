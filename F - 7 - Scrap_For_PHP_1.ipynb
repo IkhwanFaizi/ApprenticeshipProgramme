{
 "cells": [
  {
   "cell_type": "code",
   "execution_count": 7,
   "id": "2466d8ce",
   "metadata": {},
   "outputs": [
    {
     "name": "stdout",
     "output_type": "stream",
     "text": [
      "('https://cf.shopee.com.my/file/aa0a8cb3ad16fa1ca683fa1bc382be03_tn', 'F&N 100Plus (24 x 325ml) X 2 Carton [KL & Selangor Delivery Only]', 'RM63.00', 'https://shopee.com.my//F-N-100Plus-(24-x-325ml)-X-2-Carton-KL-Selangor-Delivery-Only--i.3558759.3810317008?sp_atk=e7ee4f07-8461-4cdf-9bf7-8cc806f4638a')\n"
     ]
    }
   ],
   "source": [
    "import requests\n",
    "from bs4 import BeautifulSoup\n",
    "import selenium\n",
    "from selenium import webdriver\n",
    "import time\n",
    "import sys\n",
    "import warnings\n",
    "warnings.filterwarnings('ignore')\n",
    "\n",
    "# generate url for product\n",
    "def get_url(product):\n",
    "    product = product.replace(' ','%20')\n",
    "    template = 'https://shopee.com.my/search?keyword={}/'\n",
    "    url = template.format(product)\n",
    "    return url  \n",
    "\n",
    "def get_all_products(card):\n",
    "    \n",
    "    # if use selenium\n",
    "    # product_image = single_card.find_element_by_tag_name('img')\n",
    "    # productImg = product_image.get_attribute('src')\n",
    "    \n",
    "    # if use BeautifulSoup\n",
    "    pImg = card.find('img','_3-N5L6 _2GchKS')\n",
    "    product_image = pImg['src']\n",
    "    product_name = card.find('div','_10Wbs- _5SSWfi UjjMrh').text.strip()\n",
    "    product_name = product_name.encode('ascii','ignore')\n",
    "    product_name = str(product_name,'utf-8')\n",
    "    product_price = card.find('div','zp9xm9 xSxKlK _1heB4J').text.strip()\n",
    "    anchor_tag = card.a.get('href')\n",
    "    product_buy_link = 'https://shopee.com.my/'+anchor_tag\n",
    "    \n",
    "    product_info = (product_image,product_name,product_price,product_buy_link)\n",
    "    \n",
    "    return product_info\n",
    "\n",
    "def main(product):\n",
    "    records = []\n",
    "    url = get_url(product)\n",
    "    \n",
    "    driver = webdriver.Chrome(executable_path='chromedriver.exe')\n",
    "    driver.get(url)\n",
    "    driver.maximize_window()\n",
    "    # wait for 5 seconds\n",
    "    time.sleep(5)\n",
    "    btn = driver.find_element_by_xpath('//*[@id=\"modal\"]/div[1]/div[1]/div/div[3]/div[1]/button')\n",
    "    btn.click()\n",
    "    \n",
    "    #Define an initial value\n",
    "    temp_height=0\n",
    "    while True:\n",
    "        #Looping down the scroll bar\n",
    "        driver.execute_script(\"window.scrollBy(0,1000)\")\n",
    "        #sleep and let the scroll bar react\n",
    "        time.sleep(5)\n",
    "        #Get the distance of the current scroll bar from the top\n",
    "        check_height = driver.execute_script(\"return document.documentElement.scrollTop || window.pageYOffset || document.body.scrollTop;\")\n",
    "        #If the two are equal to the end\n",
    "        if check_height==temp_height:\n",
    "            break\n",
    "        temp_height=check_height\n",
    "        \n",
    "    time.sleep(10) \n",
    "    \n",
    "    # create a BeautifulSoup object\n",
    "    soup = BeautifulSoup(driver.page_source,'html.parser')\n",
    "    product_cards = soup.find_all('div','col-xs-2-4')\n",
    "    \n",
    "    # fetch single product from shopee\n",
    "    singleCard = product_cards[0]\n",
    "    productDetails = get_all_products(singleCard)\n",
    "    \n",
    "    return productDetails\n",
    "\n",
    "pname = sys.argv[1]\n",
    "pDetails = main(pname) \n",
    "print(pDetails)"
   ]
  },
  {
   "cell_type": "code",
   "execution_count": null,
   "id": "8050154b",
   "metadata": {},
   "outputs": [],
   "source": []
  }
 ],
 "metadata": {
  "kernelspec": {
   "display_name": "Python 3",
   "language": "python",
   "name": "python3"
  },
  "language_info": {
   "codemirror_mode": {
    "name": "ipython",
    "version": 3
   },
   "file_extension": ".py",
   "mimetype": "text/x-python",
   "name": "python",
   "nbconvert_exporter": "python",
   "pygments_lexer": "ipython3",
   "version": "3.8.8"
  }
 },
 "nbformat": 4,
 "nbformat_minor": 5
}
