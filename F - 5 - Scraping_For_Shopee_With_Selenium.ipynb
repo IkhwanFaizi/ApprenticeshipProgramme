{
 "cells": [
  {
   "cell_type": "code",
   "execution_count": 1,
   "id": "a547c0f7",
   "metadata": {},
   "outputs": [],
   "source": [
    "# Install selenium\n",
    "\n",
    "#!pip install selenium"
   ]
  },
  {
   "cell_type": "code",
   "execution_count": 6,
   "id": "beaceba2",
   "metadata": {},
   "outputs": [],
   "source": [
    "# WEB SCRAPING FOR SHOPEE\n",
    "\n",
    "import pandas as pd\n",
    "import requests\n",
    "from bs4 import BeautifulSoup\n",
    "import selenium\n",
    "from selenium import webdriver\n",
    "import time\n",
    "import warnings\n",
    "warnings.filterwarnings('ignore')"
   ]
  },
  {
   "cell_type": "code",
   "execution_count": 7,
   "id": "5f98eb74",
   "metadata": {
    "scrolled": true
   },
   "outputs": [],
   "source": [
    "driver = webdriver.Chrome(executable_path='chromedriver.exe')\n",
    "driver.get('https://shopee.com.my/search?keyword=jeans')\n",
    "# wait for 5 seconds\n",
    "time.sleep(5)\n",
    "btn = driver.find_element_by_xpath('//*[@id=\"modal\"]/div[1]/div[1]/div/div[3]/div[1]/button')\n",
    "btn.click()\n",
    "driver.maximize_window()"
   ]
  },
  {
   "cell_type": "code",
   "execution_count": 8,
   "id": "3e838ff8",
   "metadata": {},
   "outputs": [
    {
     "name": "stdout",
     "output_type": "stream",
     "text": [
      "60\n"
     ]
    }
   ],
   "source": [
    "# getting product information using SELENIUM\n",
    "\n",
    "product_cards = driver.find_elements_by_class_name('col-xs-2-4')\n",
    "time.sleep(5)\n",
    "print(len(product_cards))"
   ]
  },
  {
   "cell_type": "code",
   "execution_count": 9,
   "id": "6c30be98",
   "metadata": {},
   "outputs": [],
   "source": [
    "single_card = product_cards[0]"
   ]
  },
  {
   "cell_type": "code",
   "execution_count": 10,
   "id": "a3881064",
   "metadata": {},
   "outputs": [
    {
     "name": "stdout",
     "output_type": "stream",
     "text": [
      "https://cf.shopee.com.my/file/66301678cb1611a2491384223e7155b5_tn\n"
     ]
    }
   ],
   "source": [
    "product_image = single_card.find_element_by_tag_name('img')\n",
    "productImg = product_image.get_attribute('src')\n",
    "print(productImg)"
   ]
  },
  {
   "cell_type": "code",
   "execution_count": 11,
   "id": "0891598b",
   "metadata": {},
   "outputs": [],
   "source": [
    "# getting product information using BeautifulSoup\n",
    "# create a BeautifulSoup object\n",
    "\n",
    "soup = BeautifulSoup(driver.page_source, 'html.parser')"
   ]
  },
  {
   "cell_type": "code",
   "execution_count": 12,
   "id": "c5cf60af",
   "metadata": {},
   "outputs": [
    {
     "name": "stdout",
     "output_type": "stream",
     "text": [
      "60\n"
     ]
    }
   ],
   "source": [
    "product_cards = soup.find_all('div','col-xs-2-4')\n",
    "print(len(product_cards))"
   ]
  },
  {
   "cell_type": "code",
   "execution_count": 13,
   "id": "8f6c1a6f",
   "metadata": {},
   "outputs": [],
   "source": [
    "card = product_cards[0]"
   ]
  },
  {
   "cell_type": "code",
   "execution_count": 15,
   "id": "f73453dd",
   "metadata": {},
   "outputs": [
    {
     "data": {
      "text/plain": [
       "<img alt=\"💕Daduhey. Wide Leg Pants Jeans Women's New Loose High Waist Drape Mopping Pants\" class=\"_3-N5L6 _2GchKS\" height=\"invalid-value\" src=\"https://cf.shopee.com.my/file/66301678cb1611a2491384223e7155b5_tn\" style=\"object-fit: contain\" width=\"invalid-value\"/>"
      ]
     },
     "execution_count": 15,
     "metadata": {},
     "output_type": "execute_result"
    }
   ],
   "source": [
    "# fetching the product image information\n",
    "\n",
    "card.find('img')_3-N5L6 _2GchKS\n"
   ]
  },
  {
   "cell_type": "code",
   "execution_count": 10,
   "id": "9164ad4b",
   "metadata": {},
   "outputs": [
    {
     "name": "stdout",
     "output_type": "stream",
     "text": [
      "Premium Jeans Light Blue\n"
     ]
    }
   ],
   "source": [
    "# fetching the product name\n",
    "product_name = card.find('div','_10Wbs- _5SSWfi UjjMrh').text.strip()\n",
    "print(product_name)"
   ]
  },
  {
   "cell_type": "code",
   "execution_count": 11,
   "id": "2f444039",
   "metadata": {},
   "outputs": [
    {
     "name": "stdout",
     "output_type": "stream",
     "text": [
      "RM60.00 - RM69.00\n"
     ]
    }
   ],
   "source": [
    "# fetching the product price\n",
    "product_price = card.find('div','zp9xm9 xSxKlK _1heB4J').text.strip()\n",
    "print(product_price)"
   ]
  },
  {
   "cell_type": "code",
   "execution_count": 26,
   "id": "576d0225",
   "metadata": {},
   "outputs": [
    {
     "name": "stdout",
     "output_type": "stream",
     "text": [
      "https://shopee.com.my//Mom-jeans-high-waste-super-expensive-fashion-best-quality-lower-price-🚚🚚-i.390215915.12421296921?sp_atk=08e48eb0-ee55-498c-9a61-ab31ff5deb70\n"
     ]
    }
   ],
   "source": [
    "# fetching the product buy link\n",
    "anchor_tag = card.a.get('href')\n",
    "product_buy_link = 'https://shopee.com.my/'+anchor_tag\n",
    "print(product_buy_link)"
   ]
  },
  {
   "cell_type": "code",
   "execution_count": null,
   "id": "e30d5c9c",
   "metadata": {},
   "outputs": [],
   "source": []
  }
 ],
 "metadata": {
  "kernelspec": {
   "display_name": "Python 3",
   "language": "python",
   "name": "python3"
  },
  "language_info": {
   "codemirror_mode": {
    "name": "ipython",
    "version": 3
   },
   "file_extension": ".py",
   "mimetype": "text/x-python",
   "name": "python",
   "nbconvert_exporter": "python",
   "pygments_lexer": "ipython3",
   "version": "3.8.8"
  }
 },
 "nbformat": 4,
 "nbformat_minor": 5
}
